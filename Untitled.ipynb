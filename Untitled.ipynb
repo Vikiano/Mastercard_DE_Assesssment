{
 "cells": [
  {
   "cell_type": "code",
   "execution_count": 44,
   "id": "bc93a32b-c1af-4ae3-9fbc-c42473f564cf",
   "metadata": {},
   "outputs": [],
   "source": [
    "import sqlite3\n",
    "import pandas as pd\n",
    "con = sqlite3.connect('de_test_db.sqlite')"
   ]
  },
  {
   "cell_type": "code",
   "execution_count": 45,
   "id": "cf38ffc7-8583-44eb-a2a9-b66f0ae79597",
   "metadata": {},
   "outputs": [],
   "source": [
    "cur = con.cursor()"
   ]
  },
  {
   "cell_type": "code",
   "execution_count": 46,
   "id": "ddd91c1e-ecd4-4f36-8138-a7570dfc7c9d",
   "metadata": {},
   "outputs": [],
   "source": [
    "df_new = pd.read_sql_query(\"\"\"\n",
    "    with \n",
    "\n",
    "t1 as (\n",
    "SELECT datetime('now','localtime') AS 'Report DateTime'\n",
    "),\n",
    "\n",
    "t2 as (\n",
    "  SELECT \n",
    "\tCOUNT(DISTINCT(Name)) AS 'Total Players', \n",
    "\tCOUNT(DISTINCT(Team)) AS 'Total Teams'\n",
    "FROM sqltest_table \n",
    "),\n",
    "\n",
    "t3 as (\n",
    "SELECT \n",
    "json_group_array(\n",
    "\tjson_object('Name', Name, 'Goals', Goals)\n",
    ") AS  'Top Three Players Stats'\n",
    "FROM (SELECT Name, SUM(Goals) AS Goals\n",
    "\t\t\t\tFROM sqltest_table\n",
    "\t\t\t\tGROUP BY Name\n",
    "\t\t\t\tORDER BY Goals DESC\n",
    "\t\t\t\tLIMIT 3)\n",
    "),\n",
    "\n",
    "t4 as (\n",
    "  SELECT COUNT(*)  AS 'Teams GT 250'\n",
    "FROM\n",
    "\t(SELECT *\n",
    "\tFROM sqltest_table\n",
    "\t-- WHERE 'Teams GT 250' > 250\n",
    "\tGROUP BY \n",
    "\t\tTeam\n",
    "\tHAVING SUM(Goals) > 250\n",
    "\tORDER BY \n",
    "\t\t1 DESC) As Z\n",
    ")\n",
    "\n",
    "select *\n",
    "from t1 join t2 join t3 join t4\n",
    "-- on t1.rn = t2.rn\n",
    "\"\"\", con)\n",
    "\n",
    "con.close()"
   ]
  },
  {
   "cell_type": "code",
   "execution_count": 47,
   "id": "fcc74545-79f0-49c7-b894-e259ec4b5b6a",
   "metadata": {},
   "outputs": [],
   "source": [
    "file = \"test_file.csv\" \n",
    "\n",
    "try:\n",
    "    df_old = pd.read_csv(file, sep=\"|\")\n",
    "    df_updated = pd.concat([df_old, df_new])\n",
    "    df_updated.to_csv(file, sep=\"|\", index=False)\n",
    "\n",
    "except FileNotFoundError:\n",
    "    df_new.to_csv(file, sep=\"|\", index=False)\n",
    "    pass"
   ]
  },
  {
   "cell_type": "code",
   "execution_count": null,
   "id": "134950ca-c9dc-45f9-bc2c-8c742bb82b7e",
   "metadata": {},
   "outputs": [],
   "source": []
  }
 ],
 "metadata": {
  "kernelspec": {
   "display_name": "Python 3 (ipykernel)",
   "language": "python",
   "name": "python3"
  },
  "language_info": {
   "codemirror_mode": {
    "name": "ipython",
    "version": 3
   },
   "file_extension": ".py",
   "mimetype": "text/x-python",
   "name": "python",
   "nbconvert_exporter": "python",
   "pygments_lexer": "ipython3",
   "version": "3.9.9"
  }
 },
 "nbformat": 4,
 "nbformat_minor": 5
}
